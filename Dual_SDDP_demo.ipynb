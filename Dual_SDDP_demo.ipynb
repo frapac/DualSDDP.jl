{
 "cells": [
  {
   "cell_type": "markdown",
   "metadata": {},
   "source": [
    "# Dual SDDP "
   ]
  },
  {
   "cell_type": "markdown",
   "metadata": {},
   "source": [
    "Warning: This notebook does not provide the same results as in the article \n",
    "\n",
    "Leclère, Vincent, et al. \"Exact converging bounds for Stochastic Dual Dynamic Programming via Fenchel duality.\" (2018).\n",
    "\n",
    "The only raison is that we do not fix the same seeds. "
   ]
  },
  {
   "cell_type": "code",
   "execution_count": 1,
   "metadata": {
    "collapsed": true
   },
   "outputs": [],
   "source": [
    "# we use Matplotlib for plots\n",
    "using PyPlot"
   ]
  },
  {
   "cell_type": "code",
   "execution_count": 2,
   "metadata": {},
   "outputs": [],
   "source": [
    "# import source code\n",
    "include(\"src/dualSDDP.jl\");"
   ]
  },
  {
   "cell_type": "markdown",
   "metadata": {},
   "source": [
    "# Toy example"
   ]
  },
  {
   "cell_type": "markdown",
   "metadata": {},
   "source": [
    "We first test dual SDDP on a trivial example, with a single node and 3 stages. \n",
    "Normally, we should obtain a gap close to 0. "
   ]
  },
  {
   "cell_type": "code",
   "execution_count": 3,
   "metadata": {
    "collapsed": true
   },
   "outputs": [],
   "source": [
    "# number of stages in SP problem\n",
    "nstages = 3\n",
    "# number of bins to quantize random noises. The bigger, the heavier is the stochasticity\n",
    "nbins = 10\n",
    "# build corresponding problem, with a single node corresponding to France\n",
    "srand(11)\n",
    "mpts = MPTS([:FRA], nstages, nbins);"
   ]
  },
  {
   "cell_type": "code",
   "execution_count": 4,
   "metadata": {},
   "outputs": [
    {
     "name": "stdout",
     "output_type": "stream",
     "text": [
      "SDDP Interface initialized\n",
      "SDDP Interface initialized\n"
     ]
    }
   ],
   "source": [
    "# build primal and dual SDDP\n",
    "psddp = initprimal(mpts);\n",
    "dsddp = initdual(mpts, psddp);"
   ]
  },
  {
   "cell_type": "code",
   "execution_count": 5,
   "metadata": {},
   "outputs": [
    {
     "name": "stdout",
     "output_type": "stream",
     "text": [
      "RUN DUAL SDDP\n",
      "Pass n° 10\tLB: 5.9070e+04 \tUB: 5.9070e+04 \n",
      "Pass n° 20\tLB: 5.9070e+04 \tUB: 5.9070e+04 \n",
      "Total exec time: 0.752646093\n"
     ]
    }
   ],
   "source": [
    "# run jointly primal and dual SDDP\n",
    "lbdual, timedual = runjoint!(psddp, dsddp, maxiterations=20);"
   ]
  },
  {
   "cell_type": "code",
   "execution_count": 6,
   "metadata": {},
   "outputs": [
    {
     "name": "stdout",
     "output_type": "stream",
     "text": [
      "Final gap: 0.0 %\n"
     ]
    }
   ],
   "source": [
    "# primal lower bound\n",
    "lb_p = psddp.stats.lowerbound\n",
    "# dual upper bound\n",
    "ub_d = lbdual[end]\n",
    "\n",
    "println(\"Final gap: \", round(100*(ub_d / lb_p - 1), 4), \" %\")"
   ]
  },
  {
   "cell_type": "markdown",
   "metadata": {},
   "source": [
    "Gap is equal to 0! "
   ]
  },
  {
   "cell_type": "markdown",
   "metadata": {},
   "source": [
    "# Overall example"
   ]
  },
  {
   "cell_type": "markdown",
   "metadata": {},
   "source": [
    "We now build the complete example, corresponding to the overall European network. \n",
    "We refer to the orginal article for a complete description of the problem. "
   ]
  },
  {
   "cell_type": "code",
   "execution_count": 7,
   "metadata": {},
   "outputs": [
    {
     "data": {
      "text/plain": [
       "7-element Array{Symbol,1}:\n",
       " :FRA\n",
       " :GER\n",
       " :ESP\n",
       " :UK \n",
       " :PT \n",
       " :ITA\n",
       " :SUI"
      ]
     },
     "execution_count": 7,
     "metadata": {},
     "output_type": "execute_result"
    }
   ],
   "source": [
    "nstages = 12\n",
    "nbins = 10\n",
    "names = [:FRA, :GER, :ESP, :UK, :PT, :ITA, :SUI] \n",
    "# WARNING: you could also add Belgium to the European network:\n",
    "## names = [:FRA, :GER, :ESP, :UK, :PT, :ITA, :SUI, :BEL] \n",
    "# but as Belgium does not have any dam, this would lead to small instabilities (co-state of a value functions reduced\n",
    "# to a single point)"
   ]
  },
  {
   "cell_type": "markdown",
   "metadata": {},
   "source": [
    "We initiate the MPTS problem."
   ]
  },
  {
   "cell_type": "code",
   "execution_count": 8,
   "metadata": {
    "collapsed": true
   },
   "outputs": [],
   "source": [
    "# WARNING: the sampling of the noise depends on the kmeans algorithm\n",
    "# which initiates its initial clusters centers randomly. Thus,\n",
    "# the noise sampling is random. For reproductability, we fix \n",
    "# the seed to ensure that we always build the same problem\n",
    "srand(2713);\n",
    "mpts = MPTS(names, nstages, nbins);"
   ]
  },
  {
   "cell_type": "code",
   "execution_count": 9,
   "metadata": {},
   "outputs": [
    {
     "name": "stdout",
     "output_type": "stream",
     "text": [
      "SDDP Interface initialized\n",
      "SDDP Interface initialized\n"
     ]
    }
   ],
   "source": [
    "psddp = initprimal(mpts);\n",
    "dsddp = initdual(mpts, psddp);"
   ]
  },
  {
   "cell_type": "markdown",
   "metadata": {},
   "source": [
    "Launch SDDP dual."
   ]
  },
  {
   "cell_type": "code",
   "execution_count": 10,
   "metadata": {},
   "outputs": [
    {
     "name": "stdout",
     "output_type": "stream",
     "text": [
      "RUN DUAL SDDP\n",
      "Pass n° 10\tLB: 5.7753e+05 \tUB: 4.5578e+07 \n",
      "Pass n° 20\tLB: 5.8673e+05 \tUB: 4.5931e+06 \n",
      "Pass n° 30\tLB: 5.9094e+05 \tUB: 2.4034e+06 \n",
      "Pass n° 40\tLB: 6.0693e+05 \tUB: 1.3220e+06 \n",
      "Pass n° 50\tLB: 6.1358e+05 \tUB: 1.1057e+06 \n",
      "Pass n° 60\tLB: 6.2104e+05 \tUB: 9.5369e+05 \n",
      "Pass n° 70\tLB: 6.2834e+05 \tUB: 9.0456e+05 \n",
      "Pass n° 80\tLB: 7.5968e+05 \tUB: 8.7248e+05 \n",
      "Pass n° 90\tLB: 7.6986e+05 \tUB: 8.5147e+05 \n",
      "Pass n° 100\tLB: 7.8754e+05 \tUB: 8.4663e+05 \n",
      "Pass n° 110\tLB: 8.0035e+05 \tUB: 8.3554e+05 \n",
      "Pass n° 120\tLB: 8.0238e+05 \tUB: 8.3303e+05 \n",
      "Pass n° 130\tLB: 8.0258e+05 \tUB: 8.3144e+05 \n",
      "Pass n° 140\tLB: 8.0835e+05 \tUB: 8.3018e+05 \n",
      "Pass n° 150\tLB: 8.0918e+05 \tUB: 8.2815e+05 \n",
      "Pass n° 160\tLB: 8.1898e+05 \tUB: 8.2674e+05 \n",
      "Pass n° 170\tLB: 8.2071e+05 \tUB: 8.2572e+05 \n",
      "Pass n° 180\tLB: 8.2132e+05 \tUB: 8.2508e+05 \n",
      "Pass n° 190\tLB: 8.2179e+05 \tUB: 8.2475e+05 \n",
      "Pass n° 200\tLB: 8.2206e+05 \tUB: 8.2433e+05 \n",
      "Pass n° 210\tLB: 8.2234e+05 \tUB: 8.2400e+05 \n",
      "Pass n° 220\tLB: 8.2239e+05 \tUB: 8.2379e+05 \n",
      "Pass n° 230\tLB: 8.2246e+05 \tUB: 8.2366e+05 \n",
      "Pass n° 240\tLB: 8.2247e+05 \tUB: 8.2357e+05 \n",
      "Pass n° 250\tLB: 8.2251e+05 \tUB: 8.2348e+05 \n",
      "Total exec time: 113.50382471\n"
     ]
    }
   ],
   "source": [
    "lbdual, timedual = runjoint!(psddp, dsddp, maxiterations=250);"
   ]
  },
  {
   "cell_type": "code",
   "execution_count": 11,
   "metadata": {},
   "outputs": [
    {
     "name": "stdout",
     "output_type": "stream",
     "text": [
      "Final gap: 0.119 %\n"
     ]
    }
   ],
   "source": [
    "lb_p = psddp.stats.lowerbound\n",
    "ub_d = lbdual[end]\n",
    "\n",
    "println(\"Final gap: \", round(100*(ub_d / lb_p - 1), 4), \" %\")"
   ]
  },
  {
   "cell_type": "code",
   "execution_count": 12,
   "metadata": {
    "collapsed": true
   },
   "outputs": [],
   "source": [
    "lbprim = psddp.stats.lower_bounds;"
   ]
  },
  {
   "cell_type": "markdown",
   "metadata": {},
   "source": [
    "We plot evolution of primal LB and dual UB. "
   ]
  },
  {
   "cell_type": "code",
   "execution_count": 13,
   "metadata": {},
   "outputs": [
    {
     "data": {
      "image/png": "[encoded data removed]",
      "text/plain": [
       "PyPlot.Figure(PyObject <matplotlib.figure.Figure object at 0x7fc951c43910>)"
      ]
     },
     "metadata": {},
     "output_type": "display_data"
    },
    {
     "data": {
      "text/plain": [
       "(781379.9029689472, 863630.4190709417)"
      ]
     },
     "execution_count": 13,
     "metadata": {},
     "output_type": "execute_result"
    }
   ],
   "source": [
    "figure(figsize=(9,6))\n",
    "\n",
    "plot(lbdual, c=\"darkblue\", lw=4, label=\"Dual UB\")\n",
    "plot(lbprim, c=\"darkred\", lw=4, label=\"Primal LB\")\n",
    "legend(loc=4)\n",
    "xlabel(\"Iterations\")\n",
    "ylim(.95lb_p, 1.05lb_p)\n"
   ]
  },
  {
   "cell_type": "markdown",
   "metadata": {},
   "source": [
    "# IA strategy"
   ]
  },
  {
   "cell_type": "markdown",
   "metadata": {},
   "source": [
    "We now test Inner Strategy (IA), and compare it with the outer approximation (OA)."
   ]
  },
  {
   "cell_type": "code",
   "execution_count": 14,
   "metadata": {
    "collapsed": true
   },
   "outputs": [],
   "source": [
    "# we copy the cuts previously computed\n",
    "V_primal = copy(psddp.bellmanfunctions);\n",
    "V_dual = copy(dsddp.bellmanfunctions);"
   ]
  },
  {
   "cell_type": "markdown",
   "metadata": {},
   "source": [
    "### Compute outer strategy"
   ]
  },
  {
   "cell_type": "code",
   "execution_count": 15,
   "metadata": {
    "collapsed": true
   },
   "outputs": [],
   "source": [
    "# get costs of OA over 1000 scenarios\n",
    "c_oa = SDDP.simulate(psddp, 1000)[1];"
   ]
  },
  {
   "cell_type": "code",
   "execution_count": 16,
   "metadata": {},
   "outputs": [
    {
     "data": {
      "text/plain": [
       "822446.9961925863"
      ]
     },
     "execution_count": 16,
     "metadata": {},
     "output_type": "execute_result"
    }
   ],
   "source": [
    "ub_oa = mean(c_oa)"
   ]
  },
  {
   "cell_type": "markdown",
   "metadata": {},
   "source": [
    "### Compute inner strategy"
   ]
  },
  {
   "cell_type": "code",
   "execution_count": 17,
   "metadata": {
    "collapsed": true
   },
   "outputs": [],
   "source": [
    "# we init the JuMP model inside the primal SDDP object (we simulate in the primal, not in the dual!)\n",
    "init_innermodeler!(psddp, V_dual)"
   ]
  },
  {
   "cell_type": "code",
   "execution_count": 18,
   "metadata": {
    "collapsed": true
   },
   "outputs": [],
   "source": [
    "# get costs of IA over 1000 scenarios\n",
    "c_ia = SDDP.simulate(psddp, 1000)[1];"
   ]
  },
  {
   "cell_type": "code",
   "execution_count": 19,
   "metadata": {},
   "outputs": [
    {
     "data": {
      "text/plain": [
       "822618.0823081832"
      ]
     },
     "execution_count": 19,
     "metadata": {},
     "output_type": "execute_result"
    }
   ],
   "source": [
    "ub_ia = mean(c_ia)"
   ]
  },
  {
   "cell_type": "markdown",
   "metadata": {},
   "source": [
    "IA costs must be lower than dual upper bound!"
   ]
  },
  {
   "cell_type": "code",
   "execution_count": 20,
   "metadata": {},
   "outputs": [
    {
     "data": {
      "text/plain": [
       "true"
      ]
     },
     "execution_count": 20,
     "metadata": {},
     "output_type": "execute_result"
    }
   ],
   "source": [
    "ub_ia <= ub_d"
   ]
  },
  {
   "cell_type": "markdown",
   "metadata": {},
   "source": [
    "### Comparison of IA with OA"
   ]
  },
  {
   "cell_type": "code",
   "execution_count": 21,
   "metadata": {},
   "outputs": [
    {
     "data": {
      "image/png": "[encoded data removed]",
      "text/plain": [
       "PyPlot.Figure(PyObject <matplotlib.figure.Figure object at 0x7fc9295dd110>)"
      ]
     },
     "metadata": {},
     "output_type": "display_data"
    }
   ],
   "source": [
    "PyPlot.plt[:hist](c_oa, 50, edgecolor=\"k\")\n",
    "PyPlot.plt[:hist](c_ia, 30, edgecolor=\"k\");"
   ]
  },
  {
   "cell_type": "markdown",
   "metadata": {},
   "source": [
    "We observe that OA average costs is close to IA average costs."
   ]
  }
 ],
 "metadata": {
  "kernelspec": {
   "display_name": "Julia 0.6.1",
   "language": "julia",
   "name": "julia-0.6"
  },
  "language_info": {
   "file_extension": ".jl",
   "mimetype": "application/julia",
   "name": "julia",
   "version": "0.6.1"
  }
 },
 "nbformat": 4,
 "nbformat_minor": 2
}
